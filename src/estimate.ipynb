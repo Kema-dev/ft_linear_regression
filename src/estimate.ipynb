{
 "cells": [
  {
   "cell_type": "code",
   "execution_count": 41,
   "metadata": {},
   "outputs": [],
   "source": [
    "%reload_ext autoreload\n",
    "%autoreload 2\n",
    "import myvars as v"
   ]
  },
  {
   "cell_type": "code",
   "execution_count": 42,
   "metadata": {},
   "outputs": [
    {
     "name": "stdout",
     "output_type": "stream",
     "text": [
      "Theta values retrieved, theta0 = 0$, theta1 = 1000$/km\n",
      "Mileage entered successfully with 123 km value\n",
      "Estimated price : $123000\n"
     ]
    }
   ],
   "source": [
    "theta = v.init(False)\n",
    "while True:\n",
    "\tinp = input('Enter your car\\'s mileage : ')\n",
    "\ttry:\n",
    "\t\tmileage = int(inp)\n",
    "\texcept:\n",
    "\t\tprint('Please input a number')\n",
    "\t\tcontinue\n",
    "\tif (mileage < 0):\n",
    "\t\tprint('Your car has a negative mileagem really ?')\n",
    "\t\tcontinue\n",
    "\telse:\n",
    "\t\tprint('Mileage entered successfully with ' + str(mileage) + ' km value')\n",
    "\t\tbreak\n",
    "price = theta[0] + (theta[1] * mileage)\n",
    "print('Estimated price : $' + str(price))"
   ]
  }
 ],
 "metadata": {
  "interpreter": {
   "hash": "916dbcbb3f70747c44a77c7bcd40155683ae19c65e1c03b4aa3499c5328201f1"
  },
  "kernelspec": {
   "display_name": "Python 3.9.7 64-bit",
   "name": "python3"
  },
  "language_info": {
   "codemirror_mode": {
    "name": "ipython",
    "version": 3
   },
   "file_extension": ".py",
   "mimetype": "text/x-python",
   "name": "python",
   "nbconvert_exporter": "python",
   "pygments_lexer": "ipython3",
   "version": "3.9.7"
  },
  "orig_nbformat": 4
 },
 "nbformat": 4,
 "nbformat_minor": 2
}
