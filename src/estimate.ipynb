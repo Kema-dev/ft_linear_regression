{
 "cells": [
  {
   "cell_type": "code",
   "execution_count": null,
   "source": [
    "%reload_ext autoreload\n",
    "%autoreload 2\n",
    "import myvars as v"
   ],
   "outputs": [],
   "metadata": {}
  },
  {
   "cell_type": "code",
   "execution_count": null,
   "source": [
    "theta = v.init(False)\n",
    "while True:\n",
    "\tinp = input('Enter your car\\'s mileage : ')\n",
    "\ttry:\n",
    "\t\tmileage = int(inp)\n",
    "\texcept:\n",
    "\t\tprint('Please input a number')\n",
    "\t\tcontinue\n",
    "\tif (mileage < 0):\n",
    "\t\tprint('Your car has a negative mileagem really ?')\n",
    "\t\tcontinue\n",
    "\telse:\n",
    "\t\tprint('Mileage entered successfully with ' + str(mileage) + ' km value')\n",
    "\t\tbreak\n",
    "price = theta[0] + (theta[1] * mileage)\n",
    "print(\"Estimated price : ${:.2f}\".format(price))\n",
    "if (price < 0):\n",
    "\tprint('Well, maybe you should consider another option to sell your car as the estimated price is negative')"
   ],
   "outputs": [],
   "metadata": {}
  }
 ],
 "metadata": {
  "interpreter": {
   "hash": "0adcc2737ebf6a4a119f135174df96668767fca1ef1112612db5ecadf2b6d608"
  },
  "kernelspec": {
   "name": "python3",
   "display_name": "Python 3.8.1 64-bit"
  },
  "language_info": {
   "codemirror_mode": {
    "name": "ipython",
    "version": 3
   },
   "file_extension": ".py",
   "mimetype": "text/x-python",
   "name": "python",
   "nbconvert_exporter": "python",
   "pygments_lexer": "ipython3",
   "version": "3.8.1"
  },
  "orig_nbformat": 4
 },
 "nbformat": 4,
 "nbformat_minor": 2
}